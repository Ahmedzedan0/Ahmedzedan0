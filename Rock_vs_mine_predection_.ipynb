{
  "nbformat": 4,
  "nbformat_minor": 0,
  "metadata": {
    "colab": {
      "name": "Rock vs mine predection .ipynb",
      "provenance": [],
      "authorship_tag": "ABX9TyMjmiOJJ+BWxMohC1TE32sh",
      "include_colab_link": true
    },
    "kernelspec": {
      "name": "python3",
      "display_name": "Python 3"
    },
    "language_info": {
      "name": "python"
    }
  },
  "cells": [
    {
      "cell_type": "markdown",
      "metadata": {
        "id": "view-in-github",
        "colab_type": "text"
      },
      "source": [
        "<a href=\"https://colab.research.google.com/github/Ahmedzedan0/Ahmedzedan0/blob/main/Rock_vs_mine_predection_.ipynb\" target=\"_parent\"><img src=\"https://colab.research.google.com/assets/colab-badge.svg\" alt=\"Open In Colab\"/></a>"
      ]
    },
    {
      "cell_type": "markdown",
      "source": [
        "1) Importing the dependencies"
      ],
      "metadata": {
        "id": "1uQ9-JMg3dDo"
      }
    },
    {
      "cell_type": "code",
      "source": [
        "import numpy as np\n",
        "import pandas as pd \n",
        "from sklearn.model_selection import train_test_split\n",
        "from sklearn.linear_model import LogisticRegression\n",
        "from sklearn.metrics import accuracy_score\n",
        " "
      ],
      "metadata": {
        "id": "4HgRixqM3nCT"
      },
      "execution_count": 1,
      "outputs": []
    },
    {
      "cell_type": "code",
      "source": [
        ""
      ],
      "metadata": {
        "id": "DhPZAWKA4eKj"
      },
      "execution_count": null,
      "outputs": []
    },
    {
      "cell_type": "markdown",
      "source": [
        "2) Data importing & processing"
      ],
      "metadata": {
        "id": "cNsmX-114m4w"
      }
    },
    {
      "cell_type": "code",
      "source": [
        "# Loading datasets\n",
        "sonar_data = pd.read_csv('/content/sonar data.csv', header=None)\n",
        "sonar_data.head()"
      ],
      "metadata": {
        "colab": {
          "base_uri": "https://localhost:8080/",
          "height": 300
        },
        "id": "p-2_Fsa14tGG",
        "outputId": "0b981cc9-810c-4380-e63b-3c11f5625e63"
      },
      "execution_count": 43,
      "outputs": [
        {
          "output_type": "execute_result",
          "data": {
            "text/plain": [
              "       0       1       2       3       4       5       6       7       8   \\\n",
              "0  0.0200  0.0371  0.0428  0.0207  0.0954  0.0986  0.1539  0.1601  0.3109   \n",
              "1  0.0453  0.0523  0.0843  0.0689  0.1183  0.2583  0.2156  0.3481  0.3337   \n",
              "2  0.0262  0.0582  0.1099  0.1083  0.0974  0.2280  0.2431  0.3771  0.5598   \n",
              "3  0.0100  0.0171  0.0623  0.0205  0.0205  0.0368  0.1098  0.1276  0.0598   \n",
              "4  0.0762  0.0666  0.0481  0.0394  0.0590  0.0649  0.1209  0.2467  0.3564   \n",
              "\n",
              "       9   ...      51      52      53      54      55      56      57  \\\n",
              "0  0.2111  ...  0.0027  0.0065  0.0159  0.0072  0.0167  0.0180  0.0084   \n",
              "1  0.2872  ...  0.0084  0.0089  0.0048  0.0094  0.0191  0.0140  0.0049   \n",
              "2  0.6194  ...  0.0232  0.0166  0.0095  0.0180  0.0244  0.0316  0.0164   \n",
              "3  0.1264  ...  0.0121  0.0036  0.0150  0.0085  0.0073  0.0050  0.0044   \n",
              "4  0.4459  ...  0.0031  0.0054  0.0105  0.0110  0.0015  0.0072  0.0048   \n",
              "\n",
              "       58      59  60  \n",
              "0  0.0090  0.0032   R  \n",
              "1  0.0052  0.0044   R  \n",
              "2  0.0095  0.0078   R  \n",
              "3  0.0040  0.0117   R  \n",
              "4  0.0107  0.0094   R  \n",
              "\n",
              "[5 rows x 61 columns]"
            ],
            "text/html": [
              "\n",
              "  <div id=\"df-f0bb3a02-4312-4be1-8f96-eb50f8b08cec\">\n",
              "    <div class=\"colab-df-container\">\n",
              "      <div>\n",
              "<style scoped>\n",
              "    .dataframe tbody tr th:only-of-type {\n",
              "        vertical-align: middle;\n",
              "    }\n",
              "\n",
              "    .dataframe tbody tr th {\n",
              "        vertical-align: top;\n",
              "    }\n",
              "\n",
              "    .dataframe thead th {\n",
              "        text-align: right;\n",
              "    }\n",
              "</style>\n",
              "<table border=\"1\" class=\"dataframe\">\n",
              "  <thead>\n",
              "    <tr style=\"text-align: right;\">\n",
              "      <th></th>\n",
              "      <th>0</th>\n",
              "      <th>1</th>\n",
              "      <th>2</th>\n",
              "      <th>3</th>\n",
              "      <th>4</th>\n",
              "      <th>5</th>\n",
              "      <th>6</th>\n",
              "      <th>7</th>\n",
              "      <th>8</th>\n",
              "      <th>9</th>\n",
              "      <th>...</th>\n",
              "      <th>51</th>\n",
              "      <th>52</th>\n",
              "      <th>53</th>\n",
              "      <th>54</th>\n",
              "      <th>55</th>\n",
              "      <th>56</th>\n",
              "      <th>57</th>\n",
              "      <th>58</th>\n",
              "      <th>59</th>\n",
              "      <th>60</th>\n",
              "    </tr>\n",
              "  </thead>\n",
              "  <tbody>\n",
              "    <tr>\n",
              "      <th>0</th>\n",
              "      <td>0.0200</td>\n",
              "      <td>0.0371</td>\n",
              "      <td>0.0428</td>\n",
              "      <td>0.0207</td>\n",
              "      <td>0.0954</td>\n",
              "      <td>0.0986</td>\n",
              "      <td>0.1539</td>\n",
              "      <td>0.1601</td>\n",
              "      <td>0.3109</td>\n",
              "      <td>0.2111</td>\n",
              "      <td>...</td>\n",
              "      <td>0.0027</td>\n",
              "      <td>0.0065</td>\n",
              "      <td>0.0159</td>\n",
              "      <td>0.0072</td>\n",
              "      <td>0.0167</td>\n",
              "      <td>0.0180</td>\n",
              "      <td>0.0084</td>\n",
              "      <td>0.0090</td>\n",
              "      <td>0.0032</td>\n",
              "      <td>R</td>\n",
              "    </tr>\n",
              "    <tr>\n",
              "      <th>1</th>\n",
              "      <td>0.0453</td>\n",
              "      <td>0.0523</td>\n",
              "      <td>0.0843</td>\n",
              "      <td>0.0689</td>\n",
              "      <td>0.1183</td>\n",
              "      <td>0.2583</td>\n",
              "      <td>0.2156</td>\n",
              "      <td>0.3481</td>\n",
              "      <td>0.3337</td>\n",
              "      <td>0.2872</td>\n",
              "      <td>...</td>\n",
              "      <td>0.0084</td>\n",
              "      <td>0.0089</td>\n",
              "      <td>0.0048</td>\n",
              "      <td>0.0094</td>\n",
              "      <td>0.0191</td>\n",
              "      <td>0.0140</td>\n",
              "      <td>0.0049</td>\n",
              "      <td>0.0052</td>\n",
              "      <td>0.0044</td>\n",
              "      <td>R</td>\n",
              "    </tr>\n",
              "    <tr>\n",
              "      <th>2</th>\n",
              "      <td>0.0262</td>\n",
              "      <td>0.0582</td>\n",
              "      <td>0.1099</td>\n",
              "      <td>0.1083</td>\n",
              "      <td>0.0974</td>\n",
              "      <td>0.2280</td>\n",
              "      <td>0.2431</td>\n",
              "      <td>0.3771</td>\n",
              "      <td>0.5598</td>\n",
              "      <td>0.6194</td>\n",
              "      <td>...</td>\n",
              "      <td>0.0232</td>\n",
              "      <td>0.0166</td>\n",
              "      <td>0.0095</td>\n",
              "      <td>0.0180</td>\n",
              "      <td>0.0244</td>\n",
              "      <td>0.0316</td>\n",
              "      <td>0.0164</td>\n",
              "      <td>0.0095</td>\n",
              "      <td>0.0078</td>\n",
              "      <td>R</td>\n",
              "    </tr>\n",
              "    <tr>\n",
              "      <th>3</th>\n",
              "      <td>0.0100</td>\n",
              "      <td>0.0171</td>\n",
              "      <td>0.0623</td>\n",
              "      <td>0.0205</td>\n",
              "      <td>0.0205</td>\n",
              "      <td>0.0368</td>\n",
              "      <td>0.1098</td>\n",
              "      <td>0.1276</td>\n",
              "      <td>0.0598</td>\n",
              "      <td>0.1264</td>\n",
              "      <td>...</td>\n",
              "      <td>0.0121</td>\n",
              "      <td>0.0036</td>\n",
              "      <td>0.0150</td>\n",
              "      <td>0.0085</td>\n",
              "      <td>0.0073</td>\n",
              "      <td>0.0050</td>\n",
              "      <td>0.0044</td>\n",
              "      <td>0.0040</td>\n",
              "      <td>0.0117</td>\n",
              "      <td>R</td>\n",
              "    </tr>\n",
              "    <tr>\n",
              "      <th>4</th>\n",
              "      <td>0.0762</td>\n",
              "      <td>0.0666</td>\n",
              "      <td>0.0481</td>\n",
              "      <td>0.0394</td>\n",
              "      <td>0.0590</td>\n",
              "      <td>0.0649</td>\n",
              "      <td>0.1209</td>\n",
              "      <td>0.2467</td>\n",
              "      <td>0.3564</td>\n",
              "      <td>0.4459</td>\n",
              "      <td>...</td>\n",
              "      <td>0.0031</td>\n",
              "      <td>0.0054</td>\n",
              "      <td>0.0105</td>\n",
              "      <td>0.0110</td>\n",
              "      <td>0.0015</td>\n",
              "      <td>0.0072</td>\n",
              "      <td>0.0048</td>\n",
              "      <td>0.0107</td>\n",
              "      <td>0.0094</td>\n",
              "      <td>R</td>\n",
              "    </tr>\n",
              "  </tbody>\n",
              "</table>\n",
              "<p>5 rows × 61 columns</p>\n",
              "</div>\n",
              "      <button class=\"colab-df-convert\" onclick=\"convertToInteractive('df-f0bb3a02-4312-4be1-8f96-eb50f8b08cec')\"\n",
              "              title=\"Convert this dataframe to an interactive table.\"\n",
              "              style=\"display:none;\">\n",
              "        \n",
              "  <svg xmlns=\"http://www.w3.org/2000/svg\" height=\"24px\"viewBox=\"0 0 24 24\"\n",
              "       width=\"24px\">\n",
              "    <path d=\"M0 0h24v24H0V0z\" fill=\"none\"/>\n",
              "    <path d=\"M18.56 5.44l.94 2.06.94-2.06 2.06-.94-2.06-.94-.94-2.06-.94 2.06-2.06.94zm-11 1L8.5 8.5l.94-2.06 2.06-.94-2.06-.94L8.5 2.5l-.94 2.06-2.06.94zm10 10l.94 2.06.94-2.06 2.06-.94-2.06-.94-.94-2.06-.94 2.06-2.06.94z\"/><path d=\"M17.41 7.96l-1.37-1.37c-.4-.4-.92-.59-1.43-.59-.52 0-1.04.2-1.43.59L10.3 9.45l-7.72 7.72c-.78.78-.78 2.05 0 2.83L4 21.41c.39.39.9.59 1.41.59.51 0 1.02-.2 1.41-.59l7.78-7.78 2.81-2.81c.8-.78.8-2.07 0-2.86zM5.41 20L4 18.59l7.72-7.72 1.47 1.35L5.41 20z\"/>\n",
              "  </svg>\n",
              "      </button>\n",
              "      \n",
              "  <style>\n",
              "    .colab-df-container {\n",
              "      display:flex;\n",
              "      flex-wrap:wrap;\n",
              "      gap: 12px;\n",
              "    }\n",
              "\n",
              "    .colab-df-convert {\n",
              "      background-color: #E8F0FE;\n",
              "      border: none;\n",
              "      border-radius: 50%;\n",
              "      cursor: pointer;\n",
              "      display: none;\n",
              "      fill: #1967D2;\n",
              "      height: 32px;\n",
              "      padding: 0 0 0 0;\n",
              "      width: 32px;\n",
              "    }\n",
              "\n",
              "    .colab-df-convert:hover {\n",
              "      background-color: #E2EBFA;\n",
              "      box-shadow: 0px 1px 2px rgba(60, 64, 67, 0.3), 0px 1px 3px 1px rgba(60, 64, 67, 0.15);\n",
              "      fill: #174EA6;\n",
              "    }\n",
              "\n",
              "    [theme=dark] .colab-df-convert {\n",
              "      background-color: #3B4455;\n",
              "      fill: #D2E3FC;\n",
              "    }\n",
              "\n",
              "    [theme=dark] .colab-df-convert:hover {\n",
              "      background-color: #434B5C;\n",
              "      box-shadow: 0px 1px 3px 1px rgba(0, 0, 0, 0.15);\n",
              "      filter: drop-shadow(0px 1px 2px rgba(0, 0, 0, 0.3));\n",
              "      fill: #FFFFFF;\n",
              "    }\n",
              "  </style>\n",
              "\n",
              "      <script>\n",
              "        const buttonEl =\n",
              "          document.querySelector('#df-f0bb3a02-4312-4be1-8f96-eb50f8b08cec button.colab-df-convert');\n",
              "        buttonEl.style.display =\n",
              "          google.colab.kernel.accessAllowed ? 'block' : 'none';\n",
              "\n",
              "        async function convertToInteractive(key) {\n",
              "          const element = document.querySelector('#df-f0bb3a02-4312-4be1-8f96-eb50f8b08cec');\n",
              "          const dataTable =\n",
              "            await google.colab.kernel.invokeFunction('convertToInteractive',\n",
              "                                                     [key], {});\n",
              "          if (!dataTable) return;\n",
              "\n",
              "          const docLinkHtml = 'Like what you see? Visit the ' +\n",
              "            '<a target=\"_blank\" href=https://colab.research.google.com/notebooks/data_table.ipynb>data table notebook</a>'\n",
              "            + ' to learn more about interactive tables.';\n",
              "          element.innerHTML = '';\n",
              "          dataTable['output_type'] = 'display_data';\n",
              "          await google.colab.output.renderOutput(dataTable, element);\n",
              "          const docLink = document.createElement('div');\n",
              "          docLink.innerHTML = docLinkHtml;\n",
              "          element.appendChild(docLink);\n",
              "        }\n",
              "      </script>\n",
              "    </div>\n",
              "  </div>\n",
              "  "
            ]
          },
          "metadata": {},
          "execution_count": 43
        }
      ]
    },
    {
      "cell_type": "code",
      "source": [
        "# Number of rows and columns\n",
        "sonar_data.shape"
      ],
      "metadata": {
        "colab": {
          "base_uri": "https://localhost:8080/"
        },
        "id": "diIDuecf6JmO",
        "outputId": "86319a20-21f1-4d03-965d-e51b2bb555cd"
      },
      "execution_count": 44,
      "outputs": [
        {
          "output_type": "execute_result",
          "data": {
            "text/plain": [
              "(208, 61)"
            ]
          },
          "metadata": {},
          "execution_count": 44
        }
      ]
    },
    {
      "cell_type": "code",
      "source": [
        "sonar_data.describe()"
      ],
      "metadata": {
        "colab": {
          "base_uri": "https://localhost:8080/",
          "height": 394
        },
        "id": "ATjytE6x6YIE",
        "outputId": "29d4a1a4-cf49-482e-a7fb-fe4b0cbc8782"
      },
      "execution_count": 45,
      "outputs": [
        {
          "output_type": "execute_result",
          "data": {
            "text/plain": [
              "               0           1           2           3           4           5   \\\n",
              "count  208.000000  208.000000  208.000000  208.000000  208.000000  208.000000   \n",
              "mean     0.029164    0.038437    0.043832    0.053892    0.075202    0.104570   \n",
              "std      0.022991    0.032960    0.038428    0.046528    0.055552    0.059105   \n",
              "min      0.001500    0.000600    0.001500    0.005800    0.006700    0.010200   \n",
              "25%      0.013350    0.016450    0.018950    0.024375    0.038050    0.067025   \n",
              "50%      0.022800    0.030800    0.034300    0.044050    0.062500    0.092150   \n",
              "75%      0.035550    0.047950    0.057950    0.064500    0.100275    0.134125   \n",
              "max      0.137100    0.233900    0.305900    0.426400    0.401000    0.382300   \n",
              "\n",
              "               6           7           8           9   ...          50  \\\n",
              "count  208.000000  208.000000  208.000000  208.000000  ...  208.000000   \n",
              "mean     0.121747    0.134799    0.178003    0.208259  ...    0.016069   \n",
              "std      0.061788    0.085152    0.118387    0.134416  ...    0.012008   \n",
              "min      0.003300    0.005500    0.007500    0.011300  ...    0.000000   \n",
              "25%      0.080900    0.080425    0.097025    0.111275  ...    0.008425   \n",
              "50%      0.106950    0.112100    0.152250    0.182400  ...    0.013900   \n",
              "75%      0.154000    0.169600    0.233425    0.268700  ...    0.020825   \n",
              "max      0.372900    0.459000    0.682800    0.710600  ...    0.100400   \n",
              "\n",
              "               51          52          53          54          55          56  \\\n",
              "count  208.000000  208.000000  208.000000  208.000000  208.000000  208.000000   \n",
              "mean     0.013420    0.010709    0.010941    0.009290    0.008222    0.007820   \n",
              "std      0.009634    0.007060    0.007301    0.007088    0.005736    0.005785   \n",
              "min      0.000800    0.000500    0.001000    0.000600    0.000400    0.000300   \n",
              "25%      0.007275    0.005075    0.005375    0.004150    0.004400    0.003700   \n",
              "50%      0.011400    0.009550    0.009300    0.007500    0.006850    0.005950   \n",
              "75%      0.016725    0.014900    0.014500    0.012100    0.010575    0.010425   \n",
              "max      0.070900    0.039000    0.035200    0.044700    0.039400    0.035500   \n",
              "\n",
              "               57          58          59  \n",
              "count  208.000000  208.000000  208.000000  \n",
              "mean     0.007949    0.007941    0.006507  \n",
              "std      0.006470    0.006181    0.005031  \n",
              "min      0.000300    0.000100    0.000600  \n",
              "25%      0.003600    0.003675    0.003100  \n",
              "50%      0.005800    0.006400    0.005300  \n",
              "75%      0.010350    0.010325    0.008525  \n",
              "max      0.044000    0.036400    0.043900  \n",
              "\n",
              "[8 rows x 60 columns]"
            ],
            "text/html": [
              "\n",
              "  <div id=\"df-2efb729b-35f1-4b82-977d-dd005f4ae00b\">\n",
              "    <div class=\"colab-df-container\">\n",
              "      <div>\n",
              "<style scoped>\n",
              "    .dataframe tbody tr th:only-of-type {\n",
              "        vertical-align: middle;\n",
              "    }\n",
              "\n",
              "    .dataframe tbody tr th {\n",
              "        vertical-align: top;\n",
              "    }\n",
              "\n",
              "    .dataframe thead th {\n",
              "        text-align: right;\n",
              "    }\n",
              "</style>\n",
              "<table border=\"1\" class=\"dataframe\">\n",
              "  <thead>\n",
              "    <tr style=\"text-align: right;\">\n",
              "      <th></th>\n",
              "      <th>0</th>\n",
              "      <th>1</th>\n",
              "      <th>2</th>\n",
              "      <th>3</th>\n",
              "      <th>4</th>\n",
              "      <th>5</th>\n",
              "      <th>6</th>\n",
              "      <th>7</th>\n",
              "      <th>8</th>\n",
              "      <th>9</th>\n",
              "      <th>...</th>\n",
              "      <th>50</th>\n",
              "      <th>51</th>\n",
              "      <th>52</th>\n",
              "      <th>53</th>\n",
              "      <th>54</th>\n",
              "      <th>55</th>\n",
              "      <th>56</th>\n",
              "      <th>57</th>\n",
              "      <th>58</th>\n",
              "      <th>59</th>\n",
              "    </tr>\n",
              "  </thead>\n",
              "  <tbody>\n",
              "    <tr>\n",
              "      <th>count</th>\n",
              "      <td>208.000000</td>\n",
              "      <td>208.000000</td>\n",
              "      <td>208.000000</td>\n",
              "      <td>208.000000</td>\n",
              "      <td>208.000000</td>\n",
              "      <td>208.000000</td>\n",
              "      <td>208.000000</td>\n",
              "      <td>208.000000</td>\n",
              "      <td>208.000000</td>\n",
              "      <td>208.000000</td>\n",
              "      <td>...</td>\n",
              "      <td>208.000000</td>\n",
              "      <td>208.000000</td>\n",
              "      <td>208.000000</td>\n",
              "      <td>208.000000</td>\n",
              "      <td>208.000000</td>\n",
              "      <td>208.000000</td>\n",
              "      <td>208.000000</td>\n",
              "      <td>208.000000</td>\n",
              "      <td>208.000000</td>\n",
              "      <td>208.000000</td>\n",
              "    </tr>\n",
              "    <tr>\n",
              "      <th>mean</th>\n",
              "      <td>0.029164</td>\n",
              "      <td>0.038437</td>\n",
              "      <td>0.043832</td>\n",
              "      <td>0.053892</td>\n",
              "      <td>0.075202</td>\n",
              "      <td>0.104570</td>\n",
              "      <td>0.121747</td>\n",
              "      <td>0.134799</td>\n",
              "      <td>0.178003</td>\n",
              "      <td>0.208259</td>\n",
              "      <td>...</td>\n",
              "      <td>0.016069</td>\n",
              "      <td>0.013420</td>\n",
              "      <td>0.010709</td>\n",
              "      <td>0.010941</td>\n",
              "      <td>0.009290</td>\n",
              "      <td>0.008222</td>\n",
              "      <td>0.007820</td>\n",
              "      <td>0.007949</td>\n",
              "      <td>0.007941</td>\n",
              "      <td>0.006507</td>\n",
              "    </tr>\n",
              "    <tr>\n",
              "      <th>std</th>\n",
              "      <td>0.022991</td>\n",
              "      <td>0.032960</td>\n",
              "      <td>0.038428</td>\n",
              "      <td>0.046528</td>\n",
              "      <td>0.055552</td>\n",
              "      <td>0.059105</td>\n",
              "      <td>0.061788</td>\n",
              "      <td>0.085152</td>\n",
              "      <td>0.118387</td>\n",
              "      <td>0.134416</td>\n",
              "      <td>...</td>\n",
              "      <td>0.012008</td>\n",
              "      <td>0.009634</td>\n",
              "      <td>0.007060</td>\n",
              "      <td>0.007301</td>\n",
              "      <td>0.007088</td>\n",
              "      <td>0.005736</td>\n",
              "      <td>0.005785</td>\n",
              "      <td>0.006470</td>\n",
              "      <td>0.006181</td>\n",
              "      <td>0.005031</td>\n",
              "    </tr>\n",
              "    <tr>\n",
              "      <th>min</th>\n",
              "      <td>0.001500</td>\n",
              "      <td>0.000600</td>\n",
              "      <td>0.001500</td>\n",
              "      <td>0.005800</td>\n",
              "      <td>0.006700</td>\n",
              "      <td>0.010200</td>\n",
              "      <td>0.003300</td>\n",
              "      <td>0.005500</td>\n",
              "      <td>0.007500</td>\n",
              "      <td>0.011300</td>\n",
              "      <td>...</td>\n",
              "      <td>0.000000</td>\n",
              "      <td>0.000800</td>\n",
              "      <td>0.000500</td>\n",
              "      <td>0.001000</td>\n",
              "      <td>0.000600</td>\n",
              "      <td>0.000400</td>\n",
              "      <td>0.000300</td>\n",
              "      <td>0.000300</td>\n",
              "      <td>0.000100</td>\n",
              "      <td>0.000600</td>\n",
              "    </tr>\n",
              "    <tr>\n",
              "      <th>25%</th>\n",
              "      <td>0.013350</td>\n",
              "      <td>0.016450</td>\n",
              "      <td>0.018950</td>\n",
              "      <td>0.024375</td>\n",
              "      <td>0.038050</td>\n",
              "      <td>0.067025</td>\n",
              "      <td>0.080900</td>\n",
              "      <td>0.080425</td>\n",
              "      <td>0.097025</td>\n",
              "      <td>0.111275</td>\n",
              "      <td>...</td>\n",
              "      <td>0.008425</td>\n",
              "      <td>0.007275</td>\n",
              "      <td>0.005075</td>\n",
              "      <td>0.005375</td>\n",
              "      <td>0.004150</td>\n",
              "      <td>0.004400</td>\n",
              "      <td>0.003700</td>\n",
              "      <td>0.003600</td>\n",
              "      <td>0.003675</td>\n",
              "      <td>0.003100</td>\n",
              "    </tr>\n",
              "    <tr>\n",
              "      <th>50%</th>\n",
              "      <td>0.022800</td>\n",
              "      <td>0.030800</td>\n",
              "      <td>0.034300</td>\n",
              "      <td>0.044050</td>\n",
              "      <td>0.062500</td>\n",
              "      <td>0.092150</td>\n",
              "      <td>0.106950</td>\n",
              "      <td>0.112100</td>\n",
              "      <td>0.152250</td>\n",
              "      <td>0.182400</td>\n",
              "      <td>...</td>\n",
              "      <td>0.013900</td>\n",
              "      <td>0.011400</td>\n",
              "      <td>0.009550</td>\n",
              "      <td>0.009300</td>\n",
              "      <td>0.007500</td>\n",
              "      <td>0.006850</td>\n",
              "      <td>0.005950</td>\n",
              "      <td>0.005800</td>\n",
              "      <td>0.006400</td>\n",
              "      <td>0.005300</td>\n",
              "    </tr>\n",
              "    <tr>\n",
              "      <th>75%</th>\n",
              "      <td>0.035550</td>\n",
              "      <td>0.047950</td>\n",
              "      <td>0.057950</td>\n",
              "      <td>0.064500</td>\n",
              "      <td>0.100275</td>\n",
              "      <td>0.134125</td>\n",
              "      <td>0.154000</td>\n",
              "      <td>0.169600</td>\n",
              "      <td>0.233425</td>\n",
              "      <td>0.268700</td>\n",
              "      <td>...</td>\n",
              "      <td>0.020825</td>\n",
              "      <td>0.016725</td>\n",
              "      <td>0.014900</td>\n",
              "      <td>0.014500</td>\n",
              "      <td>0.012100</td>\n",
              "      <td>0.010575</td>\n",
              "      <td>0.010425</td>\n",
              "      <td>0.010350</td>\n",
              "      <td>0.010325</td>\n",
              "      <td>0.008525</td>\n",
              "    </tr>\n",
              "    <tr>\n",
              "      <th>max</th>\n",
              "      <td>0.137100</td>\n",
              "      <td>0.233900</td>\n",
              "      <td>0.305900</td>\n",
              "      <td>0.426400</td>\n",
              "      <td>0.401000</td>\n",
              "      <td>0.382300</td>\n",
              "      <td>0.372900</td>\n",
              "      <td>0.459000</td>\n",
              "      <td>0.682800</td>\n",
              "      <td>0.710600</td>\n",
              "      <td>...</td>\n",
              "      <td>0.100400</td>\n",
              "      <td>0.070900</td>\n",
              "      <td>0.039000</td>\n",
              "      <td>0.035200</td>\n",
              "      <td>0.044700</td>\n",
              "      <td>0.039400</td>\n",
              "      <td>0.035500</td>\n",
              "      <td>0.044000</td>\n",
              "      <td>0.036400</td>\n",
              "      <td>0.043900</td>\n",
              "    </tr>\n",
              "  </tbody>\n",
              "</table>\n",
              "<p>8 rows × 60 columns</p>\n",
              "</div>\n",
              "      <button class=\"colab-df-convert\" onclick=\"convertToInteractive('df-2efb729b-35f1-4b82-977d-dd005f4ae00b')\"\n",
              "              title=\"Convert this dataframe to an interactive table.\"\n",
              "              style=\"display:none;\">\n",
              "        \n",
              "  <svg xmlns=\"http://www.w3.org/2000/svg\" height=\"24px\"viewBox=\"0 0 24 24\"\n",
              "       width=\"24px\">\n",
              "    <path d=\"M0 0h24v24H0V0z\" fill=\"none\"/>\n",
              "    <path d=\"M18.56 5.44l.94 2.06.94-2.06 2.06-.94-2.06-.94-.94-2.06-.94 2.06-2.06.94zm-11 1L8.5 8.5l.94-2.06 2.06-.94-2.06-.94L8.5 2.5l-.94 2.06-2.06.94zm10 10l.94 2.06.94-2.06 2.06-.94-2.06-.94-.94-2.06-.94 2.06-2.06.94z\"/><path d=\"M17.41 7.96l-1.37-1.37c-.4-.4-.92-.59-1.43-.59-.52 0-1.04.2-1.43.59L10.3 9.45l-7.72 7.72c-.78.78-.78 2.05 0 2.83L4 21.41c.39.39.9.59 1.41.59.51 0 1.02-.2 1.41-.59l7.78-7.78 2.81-2.81c.8-.78.8-2.07 0-2.86zM5.41 20L4 18.59l7.72-7.72 1.47 1.35L5.41 20z\"/>\n",
              "  </svg>\n",
              "      </button>\n",
              "      \n",
              "  <style>\n",
              "    .colab-df-container {\n",
              "      display:flex;\n",
              "      flex-wrap:wrap;\n",
              "      gap: 12px;\n",
              "    }\n",
              "\n",
              "    .colab-df-convert {\n",
              "      background-color: #E8F0FE;\n",
              "      border: none;\n",
              "      border-radius: 50%;\n",
              "      cursor: pointer;\n",
              "      display: none;\n",
              "      fill: #1967D2;\n",
              "      height: 32px;\n",
              "      padding: 0 0 0 0;\n",
              "      width: 32px;\n",
              "    }\n",
              "\n",
              "    .colab-df-convert:hover {\n",
              "      background-color: #E2EBFA;\n",
              "      box-shadow: 0px 1px 2px rgba(60, 64, 67, 0.3), 0px 1px 3px 1px rgba(60, 64, 67, 0.15);\n",
              "      fill: #174EA6;\n",
              "    }\n",
              "\n",
              "    [theme=dark] .colab-df-convert {\n",
              "      background-color: #3B4455;\n",
              "      fill: #D2E3FC;\n",
              "    }\n",
              "\n",
              "    [theme=dark] .colab-df-convert:hover {\n",
              "      background-color: #434B5C;\n",
              "      box-shadow: 0px 1px 3px 1px rgba(0, 0, 0, 0.15);\n",
              "      filter: drop-shadow(0px 1px 2px rgba(0, 0, 0, 0.3));\n",
              "      fill: #FFFFFF;\n",
              "    }\n",
              "  </style>\n",
              "\n",
              "      <script>\n",
              "        const buttonEl =\n",
              "          document.querySelector('#df-2efb729b-35f1-4b82-977d-dd005f4ae00b button.colab-df-convert');\n",
              "        buttonEl.style.display =\n",
              "          google.colab.kernel.accessAllowed ? 'block' : 'none';\n",
              "\n",
              "        async function convertToInteractive(key) {\n",
              "          const element = document.querySelector('#df-2efb729b-35f1-4b82-977d-dd005f4ae00b');\n",
              "          const dataTable =\n",
              "            await google.colab.kernel.invokeFunction('convertToInteractive',\n",
              "                                                     [key], {});\n",
              "          if (!dataTable) return;\n",
              "\n",
              "          const docLinkHtml = 'Like what you see? Visit the ' +\n",
              "            '<a target=\"_blank\" href=https://colab.research.google.com/notebooks/data_table.ipynb>data table notebook</a>'\n",
              "            + ' to learn more about interactive tables.';\n",
              "          element.innerHTML = '';\n",
              "          dataTable['output_type'] = 'display_data';\n",
              "          await google.colab.output.renderOutput(dataTable, element);\n",
              "          const docLink = document.createElement('div');\n",
              "          docLink.innerHTML = docLinkHtml;\n",
              "          element.appendChild(docLink);\n",
              "        }\n",
              "      </script>\n",
              "    </div>\n",
              "  </div>\n",
              "  "
            ]
          },
          "metadata": {},
          "execution_count": 45
        }
      ]
    },
    {
      "cell_type": "code",
      "source": [
        "sonar_data[60].value_counts() # M represents mine & R represents rock"
      ],
      "metadata": {
        "colab": {
          "base_uri": "https://localhost:8080/"
        },
        "id": "u4IMX3Md6s91",
        "outputId": "3ebeec0d-5559-41a5-d8e3-743cb4e55a64"
      },
      "execution_count": 46,
      "outputs": [
        {
          "output_type": "execute_result",
          "data": {
            "text/plain": [
              "M    111\n",
              "R     97\n",
              "Name: 60, dtype: int64"
            ]
          },
          "metadata": {},
          "execution_count": 46
        }
      ]
    },
    {
      "cell_type": "code",
      "source": [
        "sonar_data.groupby(60).mean()"
      ],
      "metadata": {
        "colab": {
          "base_uri": "https://localhost:8080/",
          "height": 237
        },
        "id": "a85vJsYc7KT6",
        "outputId": "1b9f8fa9-c8a1-47be-d143-cd1b67fdccda"
      },
      "execution_count": 47,
      "outputs": [
        {
          "output_type": "execute_result",
          "data": {
            "text/plain": [
              "          0         1         2         3         4         5         6   \\\n",
              "60                                                                         \n",
              "M   0.034989  0.045544  0.050720  0.064768  0.086715  0.111864  0.128359   \n",
              "R   0.022498  0.030303  0.035951  0.041447  0.062028  0.096224  0.114180   \n",
              "\n",
              "          7         8         9   ...        50        51        52        53  \\\n",
              "60                                ...                                           \n",
              "M   0.149832  0.213492  0.251022  ...  0.019352  0.016014  0.011643  0.012185   \n",
              "R   0.117596  0.137392  0.159325  ...  0.012311  0.010453  0.009640  0.009518   \n",
              "\n",
              "          54        55        56        57        58        59  \n",
              "60                                                              \n",
              "M   0.009923  0.008914  0.007825  0.009060  0.008695  0.006930  \n",
              "R   0.008567  0.007430  0.007814  0.006677  0.007078  0.006024  \n",
              "\n",
              "[2 rows x 60 columns]"
            ],
            "text/html": [
              "\n",
              "  <div id=\"df-5644b4c5-663d-449a-ae39-ba143ad90b45\">\n",
              "    <div class=\"colab-df-container\">\n",
              "      <div>\n",
              "<style scoped>\n",
              "    .dataframe tbody tr th:only-of-type {\n",
              "        vertical-align: middle;\n",
              "    }\n",
              "\n",
              "    .dataframe tbody tr th {\n",
              "        vertical-align: top;\n",
              "    }\n",
              "\n",
              "    .dataframe thead th {\n",
              "        text-align: right;\n",
              "    }\n",
              "</style>\n",
              "<table border=\"1\" class=\"dataframe\">\n",
              "  <thead>\n",
              "    <tr style=\"text-align: right;\">\n",
              "      <th></th>\n",
              "      <th>0</th>\n",
              "      <th>1</th>\n",
              "      <th>2</th>\n",
              "      <th>3</th>\n",
              "      <th>4</th>\n",
              "      <th>5</th>\n",
              "      <th>6</th>\n",
              "      <th>7</th>\n",
              "      <th>8</th>\n",
              "      <th>9</th>\n",
              "      <th>...</th>\n",
              "      <th>50</th>\n",
              "      <th>51</th>\n",
              "      <th>52</th>\n",
              "      <th>53</th>\n",
              "      <th>54</th>\n",
              "      <th>55</th>\n",
              "      <th>56</th>\n",
              "      <th>57</th>\n",
              "      <th>58</th>\n",
              "      <th>59</th>\n",
              "    </tr>\n",
              "    <tr>\n",
              "      <th>60</th>\n",
              "      <th></th>\n",
              "      <th></th>\n",
              "      <th></th>\n",
              "      <th></th>\n",
              "      <th></th>\n",
              "      <th></th>\n",
              "      <th></th>\n",
              "      <th></th>\n",
              "      <th></th>\n",
              "      <th></th>\n",
              "      <th></th>\n",
              "      <th></th>\n",
              "      <th></th>\n",
              "      <th></th>\n",
              "      <th></th>\n",
              "      <th></th>\n",
              "      <th></th>\n",
              "      <th></th>\n",
              "      <th></th>\n",
              "      <th></th>\n",
              "      <th></th>\n",
              "    </tr>\n",
              "  </thead>\n",
              "  <tbody>\n",
              "    <tr>\n",
              "      <th>M</th>\n",
              "      <td>0.034989</td>\n",
              "      <td>0.045544</td>\n",
              "      <td>0.050720</td>\n",
              "      <td>0.064768</td>\n",
              "      <td>0.086715</td>\n",
              "      <td>0.111864</td>\n",
              "      <td>0.128359</td>\n",
              "      <td>0.149832</td>\n",
              "      <td>0.213492</td>\n",
              "      <td>0.251022</td>\n",
              "      <td>...</td>\n",
              "      <td>0.019352</td>\n",
              "      <td>0.016014</td>\n",
              "      <td>0.011643</td>\n",
              "      <td>0.012185</td>\n",
              "      <td>0.009923</td>\n",
              "      <td>0.008914</td>\n",
              "      <td>0.007825</td>\n",
              "      <td>0.009060</td>\n",
              "      <td>0.008695</td>\n",
              "      <td>0.006930</td>\n",
              "    </tr>\n",
              "    <tr>\n",
              "      <th>R</th>\n",
              "      <td>0.022498</td>\n",
              "      <td>0.030303</td>\n",
              "      <td>0.035951</td>\n",
              "      <td>0.041447</td>\n",
              "      <td>0.062028</td>\n",
              "      <td>0.096224</td>\n",
              "      <td>0.114180</td>\n",
              "      <td>0.117596</td>\n",
              "      <td>0.137392</td>\n",
              "      <td>0.159325</td>\n",
              "      <td>...</td>\n",
              "      <td>0.012311</td>\n",
              "      <td>0.010453</td>\n",
              "      <td>0.009640</td>\n",
              "      <td>0.009518</td>\n",
              "      <td>0.008567</td>\n",
              "      <td>0.007430</td>\n",
              "      <td>0.007814</td>\n",
              "      <td>0.006677</td>\n",
              "      <td>0.007078</td>\n",
              "      <td>0.006024</td>\n",
              "    </tr>\n",
              "  </tbody>\n",
              "</table>\n",
              "<p>2 rows × 60 columns</p>\n",
              "</div>\n",
              "      <button class=\"colab-df-convert\" onclick=\"convertToInteractive('df-5644b4c5-663d-449a-ae39-ba143ad90b45')\"\n",
              "              title=\"Convert this dataframe to an interactive table.\"\n",
              "              style=\"display:none;\">\n",
              "        \n",
              "  <svg xmlns=\"http://www.w3.org/2000/svg\" height=\"24px\"viewBox=\"0 0 24 24\"\n",
              "       width=\"24px\">\n",
              "    <path d=\"M0 0h24v24H0V0z\" fill=\"none\"/>\n",
              "    <path d=\"M18.56 5.44l.94 2.06.94-2.06 2.06-.94-2.06-.94-.94-2.06-.94 2.06-2.06.94zm-11 1L8.5 8.5l.94-2.06 2.06-.94-2.06-.94L8.5 2.5l-.94 2.06-2.06.94zm10 10l.94 2.06.94-2.06 2.06-.94-2.06-.94-.94-2.06-.94 2.06-2.06.94z\"/><path d=\"M17.41 7.96l-1.37-1.37c-.4-.4-.92-.59-1.43-.59-.52 0-1.04.2-1.43.59L10.3 9.45l-7.72 7.72c-.78.78-.78 2.05 0 2.83L4 21.41c.39.39.9.59 1.41.59.51 0 1.02-.2 1.41-.59l7.78-7.78 2.81-2.81c.8-.78.8-2.07 0-2.86zM5.41 20L4 18.59l7.72-7.72 1.47 1.35L5.41 20z\"/>\n",
              "  </svg>\n",
              "      </button>\n",
              "      \n",
              "  <style>\n",
              "    .colab-df-container {\n",
              "      display:flex;\n",
              "      flex-wrap:wrap;\n",
              "      gap: 12px;\n",
              "    }\n",
              "\n",
              "    .colab-df-convert {\n",
              "      background-color: #E8F0FE;\n",
              "      border: none;\n",
              "      border-radius: 50%;\n",
              "      cursor: pointer;\n",
              "      display: none;\n",
              "      fill: #1967D2;\n",
              "      height: 32px;\n",
              "      padding: 0 0 0 0;\n",
              "      width: 32px;\n",
              "    }\n",
              "\n",
              "    .colab-df-convert:hover {\n",
              "      background-color: #E2EBFA;\n",
              "      box-shadow: 0px 1px 2px rgba(60, 64, 67, 0.3), 0px 1px 3px 1px rgba(60, 64, 67, 0.15);\n",
              "      fill: #174EA6;\n",
              "    }\n",
              "\n",
              "    [theme=dark] .colab-df-convert {\n",
              "      background-color: #3B4455;\n",
              "      fill: #D2E3FC;\n",
              "    }\n",
              "\n",
              "    [theme=dark] .colab-df-convert:hover {\n",
              "      background-color: #434B5C;\n",
              "      box-shadow: 0px 1px 3px 1px rgba(0, 0, 0, 0.15);\n",
              "      filter: drop-shadow(0px 1px 2px rgba(0, 0, 0, 0.3));\n",
              "      fill: #FFFFFF;\n",
              "    }\n",
              "  </style>\n",
              "\n",
              "      <script>\n",
              "        const buttonEl =\n",
              "          document.querySelector('#df-5644b4c5-663d-449a-ae39-ba143ad90b45 button.colab-df-convert');\n",
              "        buttonEl.style.display =\n",
              "          google.colab.kernel.accessAllowed ? 'block' : 'none';\n",
              "\n",
              "        async function convertToInteractive(key) {\n",
              "          const element = document.querySelector('#df-5644b4c5-663d-449a-ae39-ba143ad90b45');\n",
              "          const dataTable =\n",
              "            await google.colab.kernel.invokeFunction('convertToInteractive',\n",
              "                                                     [key], {});\n",
              "          if (!dataTable) return;\n",
              "\n",
              "          const docLinkHtml = 'Like what you see? Visit the ' +\n",
              "            '<a target=\"_blank\" href=https://colab.research.google.com/notebooks/data_table.ipynb>data table notebook</a>'\n",
              "            + ' to learn more about interactive tables.';\n",
              "          element.innerHTML = '';\n",
              "          dataTable['output_type'] = 'display_data';\n",
              "          await google.colab.output.renderOutput(dataTable, element);\n",
              "          const docLink = document.createElement('div');\n",
              "          docLink.innerHTML = docLinkHtml;\n",
              "          element.appendChild(docLink);\n",
              "        }\n",
              "      </script>\n",
              "    </div>\n",
              "  </div>\n",
              "  "
            ]
          },
          "metadata": {},
          "execution_count": 47
        }
      ]
    },
    {
      "cell_type": "code",
      "source": [
        "# Seperating data from labels\n",
        "# X data without labels\n",
        "# Y labels  \n",
        "X = sonar_data.drop(columns=60,  axis=1)    # axis=1 for columns & axis=0 for rows \n",
        "Y = sonar_data[60]\n",
        "print(X)\n",
        "print(80* '_') # just for easy read\n",
        "print(Y)"
      ],
      "metadata": {
        "colab": {
          "base_uri": "https://localhost:8080/"
        },
        "id": "oG731hbG7qBu",
        "outputId": "fa41f5d6-6501-4697-8fd6-da403de9eb0a"
      },
      "execution_count": 49,
      "outputs": [
        {
          "output_type": "stream",
          "name": "stdout",
          "text": [
            "         0       1       2       3       4       5       6       7       8   \\\n",
            "0    0.0200  0.0371  0.0428  0.0207  0.0954  0.0986  0.1539  0.1601  0.3109   \n",
            "1    0.0453  0.0523  0.0843  0.0689  0.1183  0.2583  0.2156  0.3481  0.3337   \n",
            "2    0.0262  0.0582  0.1099  0.1083  0.0974  0.2280  0.2431  0.3771  0.5598   \n",
            "3    0.0100  0.0171  0.0623  0.0205  0.0205  0.0368  0.1098  0.1276  0.0598   \n",
            "4    0.0762  0.0666  0.0481  0.0394  0.0590  0.0649  0.1209  0.2467  0.3564   \n",
            "..      ...     ...     ...     ...     ...     ...     ...     ...     ...   \n",
            "203  0.0187  0.0346  0.0168  0.0177  0.0393  0.1630  0.2028  0.1694  0.2328   \n",
            "204  0.0323  0.0101  0.0298  0.0564  0.0760  0.0958  0.0990  0.1018  0.1030   \n",
            "205  0.0522  0.0437  0.0180  0.0292  0.0351  0.1171  0.1257  0.1178  0.1258   \n",
            "206  0.0303  0.0353  0.0490  0.0608  0.0167  0.1354  0.1465  0.1123  0.1945   \n",
            "207  0.0260  0.0363  0.0136  0.0272  0.0214  0.0338  0.0655  0.1400  0.1843   \n",
            "\n",
            "         9   ...      50      51      52      53      54      55      56  \\\n",
            "0    0.2111  ...  0.0232  0.0027  0.0065  0.0159  0.0072  0.0167  0.0180   \n",
            "1    0.2872  ...  0.0125  0.0084  0.0089  0.0048  0.0094  0.0191  0.0140   \n",
            "2    0.6194  ...  0.0033  0.0232  0.0166  0.0095  0.0180  0.0244  0.0316   \n",
            "3    0.1264  ...  0.0241  0.0121  0.0036  0.0150  0.0085  0.0073  0.0050   \n",
            "4    0.4459  ...  0.0156  0.0031  0.0054  0.0105  0.0110  0.0015  0.0072   \n",
            "..      ...  ...     ...     ...     ...     ...     ...     ...     ...   \n",
            "203  0.2684  ...  0.0203  0.0116  0.0098  0.0199  0.0033  0.0101  0.0065   \n",
            "204  0.2154  ...  0.0051  0.0061  0.0093  0.0135  0.0063  0.0063  0.0034   \n",
            "205  0.2529  ...  0.0155  0.0160  0.0029  0.0051  0.0062  0.0089  0.0140   \n",
            "206  0.2354  ...  0.0042  0.0086  0.0046  0.0126  0.0036  0.0035  0.0034   \n",
            "207  0.2354  ...  0.0181  0.0146  0.0129  0.0047  0.0039  0.0061  0.0040   \n",
            "\n",
            "         57      58      59  \n",
            "0    0.0084  0.0090  0.0032  \n",
            "1    0.0049  0.0052  0.0044  \n",
            "2    0.0164  0.0095  0.0078  \n",
            "3    0.0044  0.0040  0.0117  \n",
            "4    0.0048  0.0107  0.0094  \n",
            "..      ...     ...     ...  \n",
            "203  0.0115  0.0193  0.0157  \n",
            "204  0.0032  0.0062  0.0067  \n",
            "205  0.0138  0.0077  0.0031  \n",
            "206  0.0079  0.0036  0.0048  \n",
            "207  0.0036  0.0061  0.0115  \n",
            "\n",
            "[208 rows x 60 columns]\n",
            "________________________________________________________________________________\n",
            "0      R\n",
            "1      R\n",
            "2      R\n",
            "3      R\n",
            "4      R\n",
            "      ..\n",
            "203    M\n",
            "204    M\n",
            "205    M\n",
            "206    M\n",
            "207    M\n",
            "Name: 60, Length: 208, dtype: object\n"
          ]
        }
      ]
    },
    {
      "cell_type": "code",
      "source": [
        ""
      ],
      "metadata": {
        "id": "WHGNRIKV8_fk"
      },
      "execution_count": null,
      "outputs": []
    },
    {
      "cell_type": "markdown",
      "source": [
        "3) Set train & test sizes  "
      ],
      "metadata": {
        "id": "QEjVKvGH-LYn"
      }
    },
    {
      "cell_type": "code",
      "source": [
        "# setting the “stratify” argument to the y component of the original dataset. This will be used by the train_test_split() function to ensure \n",
        "# that both the train and test sets have the proportion of examples in each class that is present in the provided “y” array\n",
        "\n",
        "# test_size is 1 to 10 , that means 1 test example against 10 train \n",
        "\n",
        "# random_state=1 means every time you run the code it use the same order for train & test \n",
        "X_train, X_test, Y_train, Y_test = train_test_split(X,Y, test_size = 0.1, stratify=Y, random_state=1)\n",
        "print(X.shape, X_train.shape, X_test.shape )\n"
      ],
      "metadata": {
        "colab": {
          "base_uri": "https://localhost:8080/"
        },
        "id": "NswuyMae-UVD",
        "outputId": "49006f95-533c-4428-83bb-f7a8b59b82ae"
      },
      "execution_count": 50,
      "outputs": [
        {
          "output_type": "stream",
          "name": "stdout",
          "text": [
            "(208, 60) (187, 60) (21, 60)\n"
          ]
        }
      ]
    },
    {
      "cell_type": "code",
      "source": [
        ""
      ],
      "metadata": {
        "id": "STiaBKGkASzW"
      },
      "execution_count": 50,
      "outputs": []
    },
    {
      "cell_type": "markdown",
      "source": [
        "4) Logistic regression Model training"
      ],
      "metadata": {
        "id": "TsSqnlNCA0gn"
      }
    },
    {
      "cell_type": "code",
      "source": [
        "model = LogisticRegression() # model selection \n",
        "# training the data set\n",
        "model.fit(X_train, Y_train) # Fit function adjusts weights according to data values so that better accuracy can be achieved."
      ],
      "metadata": {
        "colab": {
          "base_uri": "https://localhost:8080/"
        },
        "id": "ou4NvHYkA7NQ",
        "outputId": "00dcc4a9-1cf7-4363-ce81-539b0c917999"
      },
      "execution_count": 51,
      "outputs": [
        {
          "output_type": "execute_result",
          "data": {
            "text/plain": [
              "LogisticRegression()"
            ]
          },
          "metadata": {},
          "execution_count": 51
        }
      ]
    },
    {
      "cell_type": "code",
      "source": [
        ""
      ],
      "metadata": {
        "id": "0YIxfGPAB6X3"
      },
      "execution_count": null,
      "outputs": []
    },
    {
      "cell_type": "markdown",
      "source": [
        "5) Model evaluation"
      ],
      "metadata": {
        "id": "WFgt4130CBVE"
      }
    },
    {
      "cell_type": "code",
      "source": [
        "X_train_prediction = model.predict(X_train)\n",
        "training_data_accuracy = accuracy_score(X_train_prediction, Y_train)\n",
        "print(training_data_accuracy)"
      ],
      "metadata": {
        "colab": {
          "base_uri": "https://localhost:8080/"
        },
        "id": "I6BqCYSWCFAc",
        "outputId": "3afb81b4-cab5-48a8-d8d9-b6831d985959"
      },
      "execution_count": 52,
      "outputs": [
        {
          "output_type": "stream",
          "name": "stdout",
          "text": [
            "0.8342245989304813\n"
          ]
        }
      ]
    },
    {
      "cell_type": "code",
      "source": [
        "X_test_prediction = model.predict(X_test)\n",
        "testing_data_accuracy = accuracy_score(X_test_prediction, Y_test)\n",
        "print(testing_data_accuracy)"
      ],
      "metadata": {
        "colab": {
          "base_uri": "https://localhost:8080/"
        },
        "id": "pVGt3BhxDMDv",
        "outputId": "2a2393e6-001b-492d-e730-02ae815c9496"
      },
      "execution_count": 53,
      "outputs": [
        {
          "output_type": "stream",
          "name": "stdout",
          "text": [
            "0.7619047619047619\n"
          ]
        }
      ]
    },
    {
      "cell_type": "markdown",
      "source": [
        "6) Predection System"
      ],
      "metadata": {
        "id": "tV48bnK5KpMX"
      }
    },
    {
      "cell_type": "markdown",
      "source": [
        "![image.png](data:image/png;base64,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)"
      ],
      "metadata": {
        "id": "pSIFa18wHOiJ"
      }
    },
    {
      "cell_type": "code",
      "source": [
        "# Predection System\n",
        "# inserting rock data\n",
        "# why numpy array? NumPy arrays are faster and more compact than Python lists. An array consumes less memory and is convenient to use. \n",
        "# NumPy uses much less memory to store data and it provides a mechanism of specifying the data types.\n",
        " \n",
        "input_data = (0.0210,0.0121,0.0203,0.1036,0.1675,0.0418,0.0723,0.0828,0.0494,0.0686,0.1125,0.1741,0.2710,0.3087,0.3575,0.4998,0.6011,0.6470,0.8067,0.9008,0.8906,0.9338,1.0000,0.9102,0.8496,0.7867,0.7688,0.7718,0.6268,0.4301,0.2077,0.1198,0.1660,0.2618,0.3862,0.3958,0.3248,0.2302,0.3250,0.4022,0.4344,0.4008,0.3370,0.2518,0.2101,0.1181,0.1150,0.0550,0.0293,0.0183,0.0104,0.0117,0.0101,0.0061,0.0031,0.0099,0.0080,0.0107,0.0161,0.0133)\n",
        "input_data_as_numpy_array = np.asarray(input_data)\n",
        "input_data_as_reshaped_numpy_array = input_data_as_numpy_array.reshape(1, -1)\n",
        "\n",
        "prediction = model.predict(input_data_as_reshaped_numpy_array)  \n",
        "\n",
        "# outputs R or M if M we are right \n",
        "if prediction=='R':\n",
        "  print('This is rock')\n",
        "else:\n",
        "    print('This is mine')"
      ],
      "metadata": {
        "colab": {
          "base_uri": "https://localhost:8080/"
        },
        "id": "rcjvFwEvDhfr",
        "outputId": "85d6ded9-fd82-4c3f-9fcb-4e0b3692ca7d"
      },
      "execution_count": 56,
      "outputs": [
        {
          "output_type": "stream",
          "name": "stdout",
          "text": [
            "This is mine\n"
          ]
        }
      ]
    },
    {
      "cell_type": "code",
      "source": [
        "input_data = (0.0298,0.0615,0.0650,0.0921,0.1615,0.2294,0.2176,0.2033,0.1459,0.0852,0.2476,0.3645,0.2777,0.2826,0.3237,0.4335,0.5638,0.4555,0.4348,0.6433,0.3932,0.1989,0.3540,0.9165,0.9371,0.4620,0.2771,0.6613,0.8028,0.4200,0.5192,0.6962,0.5792,0.8889,0.7863,0.7133,0.7615,0.4401,0.3009,0.3163,0.2809,0.2898,0.0526,0.1867,0.1553,0.1633,0.1252,0.0748,0.0452,0.0064,0.0154,0.0031,0.0153,0.0071,0.0212,0.0076,0.0152,0.0049,0.0200,0.0073)\n",
        "input_data_as_numpy_array = np.asarray(input_data)\n",
        "input_data_as_reshaped_numpy_array = input_data_as_numpy_array.reshape(1, -1)\n",
        "\n",
        "prediction = model.predict(input_data_as_reshaped_numpy_array)  \n",
        "# outputs R or M if R we are right \n",
        "if prediction =='R':\n",
        "  print('This is rock')\n",
        "else:\n",
        "    print('This is mine')"
      ],
      "metadata": {
        "colab": {
          "base_uri": "https://localhost:8080/"
        },
        "id": "qZqHgviSHgPG",
        "outputId": "3957c78d-8886-47d4-99d8-8610e211f145"
      },
      "execution_count": 57,
      "outputs": [
        {
          "output_type": "stream",
          "name": "stdout",
          "text": [
            "This is rock\n"
          ]
        }
      ]
    },
    {
      "cell_type": "code",
      "source": [
        ""
      ],
      "metadata": {
        "id": "9d5XLLIYIJ8P"
      },
      "execution_count": null,
      "outputs": []
    }
  ]
}